{
 "cells": [
  {
   "cell_type": "markdown",
   "metadata": {},
   "source": [
    "1. Syntax: lambda arguments: expression\n",
    "     - Any number of arguments\n",
    "     - Restricted to one expression"
   ]
  },
  {
   "cell_type": "markdown",
   "metadata": {},
   "source": [
    "Example of taking a single argument\n",
    "    - Number\n",
    "    - String\n",
    "    - List\n",
    "    - ..."
   ]
  },
  {
   "cell_type": "code",
   "execution_count": 105,
   "metadata": {
    "scrolled": true
   },
   "outputs": [
    {
     "name": "stdout",
     "output_type": "stream",
     "text": [
      "25\n",
      "APPLE\n",
      "5\n",
      "15\n",
      "5\n",
      "1\n",
      "3.0\n"
     ]
    }
   ],
   "source": [
    "# Number: arithmetic operators, assignment operations, logical operations, math module\n",
    "\n",
    "y = lambda x: x**2\n",
    "print(y(5))\n",
    "\n",
    "# Single stirng: string method\n",
    "\n",
    "y = lambda x: x.upper()\n",
    "print(y(\"apple\"))\n",
    "\n",
    "# List of numbers: len, sum, max, min, sum/len, statistics module\n",
    "\n",
    "y = lambda x: len(x)\n",
    "print(y([1,2,3,4,5]))\n",
    "\n",
    "y = lambda x: sum(x)\n",
    "print(y([1,2,3,4,5]))\n",
    "\n",
    "y = lambda x: max(x)\n",
    "print(y([1,2,3,4,5]))\n",
    "\n",
    "y = lambda x: min(x)\n",
    "print(y([1,2,3,4,5]))\n",
    "\n",
    "y = lambda x: sum(x)/len(x)\n",
    "print(y([1,2,3,4,5]))"
   ]
  },
  {
   "cell_type": "markdown",
   "metadata": {},
   "source": [
    "Example of taking multiple arguments\n",
    "    - Number\n",
    "    - String\n",
    "    - List\n",
    "    - Mixture\n",
    "    - ..."
   ]
  },
  {
   "cell_type": "code",
   "execution_count": 99,
   "metadata": {
    "scrolled": true
   },
   "outputs": [
    {
     "name": "stdout",
     "output_type": "stream",
     "text": [
      "12\n",
      "apple\n",
      "[1, 2, 3, 4, 5]\n",
      "False\n"
     ]
    }
   ],
   "source": [
    "# Number\n",
    "\n",
    "z = lambda x,y: x*y\n",
    "print(z(3,4))\n",
    "\n",
    "# String\n",
    "\n",
    "z = lambda x,y: x + y\n",
    "print(z(\"app\",\"le\"))\n",
    "\n",
    "# List\n",
    "\n",
    "z = lambda x,y: x + y\n",
    "print(z([1,2,3],[4,5]))\n",
    "\n",
    "\n",
    "# Mix\n",
    "\n",
    "z = lambda x,y: x is y\n",
    "print(z(5,\"5\"))"
   ]
  },
  {
   "cell_type": "code",
   "execution_count": 77,
   "metadata": {
    "scrolled": true
   },
   "outputs": [
    {
     "name": "stdout",
     "output_type": "stream",
     "text": [
      "Please input number between 0 and 10.6\n"
     ]
    },
    {
     "data": {
      "text/plain": [
       "True"
      ]
     },
     "execution_count": 77,
     "metadata": {},
     "output_type": "execute_result"
    }
   ],
   "source": [
    "# Use lambda to validate the user input\n",
    "\n",
    "user_input = input(\"Please input number between 0 and 1\")\n",
    "\n",
    "(lambda x: 0 < x < 1)(float(user_input))"
   ]
  },
  {
   "cell_type": "code",
   "execution_count": 106,
   "metadata": {},
   "outputs": [
    {
     "name": "stdout",
     "output_type": "stream",
     "text": [
      "<function <lambda> at 0x7faa60867d40>\n",
      "7\n"
     ]
    },
    {
     "data": {
      "text/plain": [
       "7"
      ]
     },
     "execution_count": 106,
     "metadata": {},
     "output_type": "execute_result"
    }
   ],
   "source": [
    "# Can't use PRINT to call lambda. \n",
    "# The code just return the function object and the memory location where it is stored. \n",
    "\n",
    "x = 7\n",
    "print(lambda x: x)\n",
    "\n",
    "# Assing the lambda to a variable first, then print\n",
    "y = lambda x: x\n",
    "print(y(7))\n",
    "\n",
    "# Assing a specific value to the lambda varible\n",
    "(lambda x: x)(x = 7)"
   ]
  },
  {
   "cell_type": "markdown",
   "metadata": {},
   "source": [
    "Take y = $x^n$ when n is 2 and 3\n",
    "    - Use def twice\n",
    "    - Use lambda as an anonymous function inside anther funtion. \n",
    "    - Use nested lambda"
   ]
  },
  {
   "cell_type": "code",
   "execution_count": 101,
   "metadata": {},
   "outputs": [
    {
     "name": "stdout",
     "output_type": "stream",
     "text": [
      "64\n",
      "512\n",
      "64\n",
      "512\n",
      "64\n",
      "512\n"
     ]
    }
   ],
   "source": [
    "# Use def twice\n",
    "\n",
    "def square(x):\n",
    "    return x**2\n",
    "\n",
    "def cube(x):\n",
    "    return x**3\n",
    "\n",
    "print(square(8))\n",
    "print(cube(8))\n",
    "\n",
    "# Use lambda inside def\n",
    "\n",
    "def power(n):\n",
    "    return lambda a: a**n # it has two varibles, a and n. \n",
    "\n",
    "square = power(2) # n is a constant = 2\n",
    "cube = power(3) # n is a constant = 3\n",
    "\n",
    "print(square(8))\n",
    "print(cube(8))\n",
    "\n",
    "# Use nested lambda\n",
    "\n",
    "power = lambda n: lambda a: a**n\n",
    "square = power(2)\n",
    "cube = power(3)\n",
    "\n",
    "print(square(8))\n",
    "print(cube(8))"
   ]
  },
  {
   "cell_type": "markdown",
   "metadata": {},
   "source": [
    "The map() function\n",
    "    - Arguments: a function and a list\n",
    "    - Return: a new list that contains all the lambda modified items\n",
    "    - Similar to list comprehension"
   ]
  },
  {
   "cell_type": "code",
   "execution_count": 107,
   "metadata": {},
   "outputs": [
    {
     "data": {
      "text/plain": [
       "[0, 2, 4, 6, 8, 10, 12, 14, 16, 18]"
      ]
     },
     "execution_count": 107,
     "metadata": {},
     "output_type": "execute_result"
    }
   ],
   "source": [
    "x = range(0,10)\n",
    "\n",
    "map(lambda i: i*2, x) # <map at 0x7faa6068e690>\n",
    "\n",
    "list(map(lambda i: i*2, x)) # [0, 2, 4, 6, 8, 10, 12, 14, 16, 18]"
   ]
  },
  {
   "cell_type": "code",
   "execution_count": null,
   "metadata": {},
   "outputs": [],
   "source": []
  }
 ],
 "metadata": {
  "kernelspec": {
   "display_name": "Python 3",
   "language": "python",
   "name": "python3"
  },
  "language_info": {
   "codemirror_mode": {
    "name": "ipython",
    "version": 3
   },
   "file_extension": ".py",
   "mimetype": "text/x-python",
   "name": "python",
   "nbconvert_exporter": "python",
   "pygments_lexer": "ipython3",
   "version": "3.7.6"
  }
 },
 "nbformat": 4,
 "nbformat_minor": 4
}
