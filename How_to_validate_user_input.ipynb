{
 "cells": [
  {
   "cell_type": "markdown",
   "metadata": {},
   "source": [
    "input() returns a string containing what the user typed into the terminal\n",
    "\n",
    "Mindset: If a user is able to break the system by doing something wrong, we have to look at the system. \n",
    "\n",
    "\"Assume human intellegence.\"\n",
    "\n",
    "What : 1. Type; 2. Length; 3. Range\n",
    "    \n",
    "1. One-time validation\n",
    "2. Continue prompting with limited trials\n",
    "3. Continue prompting with umlimited trials"
   ]
  },
  {
   "cell_type": "markdown",
   "metadata": {},
   "source": [
    "One-time validation using build-in or defined functions"
   ]
  },
  {
   "cell_type": "code",
   "execution_count": null,
   "metadata": {},
   "outputs": [],
   "source": [
    "# 1. Letter with no space\n",
    "\n",
    "user_input = input()\n",
    "is_string_no_space = lambda x: x.isalpha()\n",
    "\n",
    "is_string_no_space(user_input)"
   ]
  },
  {
   "cell_type": "code",
   "execution_count": null,
   "metadata": {},
   "outputs": [],
   "source": [
    "# 2. Letter/number combo with no space\n",
    "\n",
    "user_input = input()\n",
    "is_string_or_num = lambda x: x.isalnum()\n",
    "\n",
    "is_string_or_num(user_input)"
   ]
  },
  {
   "cell_type": "code",
   "execution_count": null,
   "metadata": {},
   "outputs": [],
   "source": [
    "# 3. Letter with space\n",
    "\n",
    "user_input = input()\n",
    "\n",
    "def is_string_with_space(user_input):\n",
    "    flag = False\n",
    "    if \" \" in user_input:\n",
    "        for char in user_input:\n",
    "            if char.isdigit():\n",
    "                flag = False\n",
    "            elif char.isalpha() or char.isspace():\n",
    "                flag = True\n",
    "\n",
    "    return flag\n",
    "\n",
    "input_check(user_input)"
   ]
  },
  {
   "cell_type": "code",
   "execution_count": null,
   "metadata": {},
   "outputs": [],
   "source": [
    "# 4. Integer\n",
    "\n",
    "user_input = input()\n",
    "\n",
    "def is_integer(user_input):\n",
    "#     user_input = user_input.replace(\"-\",\"\")\n",
    "    return user_input.isdigit()\n",
    "\n",
    "is_integer(user_input)"
   ]
  },
  {
   "cell_type": "code",
   "execution_count": null,
   "metadata": {},
   "outputs": [],
   "source": [
    "# 5. Float\n",
    "\n",
    "user_input = input()\n",
    "\n",
    "def is_float(user_input):\n",
    "    if \".\" in user_input:\n",
    "        split_user_input = user_input.split(\".\")\n",
    "        if len(split_user_input) == 2 and split_user_input[0].isdigit() and split_user_input[1].isdigit():\n",
    "            return True\n",
    "    return False\n",
    "\n",
    "is_float(user_input)"
   ]
  },
  {
   "cell_type": "markdown",
   "metadata": {},
   "source": [
    "Continuing prompting with unlimited trials\n",
    "1. Use a flag variable\n",
    "2. Use Try/except"
   ]
  },
  {
   "cell_type": "markdown",
   "metadata": {},
   "source": [
    "Example: Are you legal to smoke in Texas? "
   ]
  },
  {
   "cell_type": "code",
   "execution_count": 1,
   "metadata": {},
   "outputs": [
    {
     "name": "stdout",
     "output_type": "stream",
     "text": [
      "How old are you?5\n",
      "You are NOT legal to smoke in Texas\n"
     ]
    }
   ],
   "source": [
    "legalage = False # flag variable legalage\n",
    "\n",
    "while not legalage: \n",
    "    age = input(\"How old are you?\")\n",
    "    if age.isdigit() and int(age) >= 21:\n",
    "        print(\"You are legal to smoke in Texas\")\n",
    "        legalage = True        \n",
    "    elif age.isdigit() and int(age) < 21:\n",
    "        print(\"You are NOT legal to smoke in Texas\") \n",
    "        legalage = True        \n",
    "    else:\n",
    "        print('You must enter a valid number')"
   ]
  },
  {
   "cell_type": "code",
   "execution_count": 2,
   "metadata": {
    "scrolled": true
   },
   "outputs": [
    {
     "name": "stdout",
     "output_type": "stream",
     "text": [
      "How old are you?67\n",
      "You are legal to smoke in Texas\n"
     ]
    }
   ],
   "source": [
    "while True:\n",
    "    try:\n",
    "        age = input(\"How old are you?\")\n",
    "        if age.isdigit() and int(age) >= 21:\n",
    "            print(\"You are legal to smoke in Texas\")\n",
    "            break        \n",
    "        elif age.isdigit() and int(age) < 21:\n",
    "            print(\"You are NOT legal to smoke in Texas\") \n",
    "            break\n",
    "    except:\n",
    "        print('You must enter a valid number')   "
   ]
  },
  {
   "cell_type": "markdown",
   "metadata": {},
   "source": [
    "A function is created and named from its function"
   ]
  },
  {
   "cell_type": "code",
   "execution_count": 6,
   "metadata": {},
   "outputs": [
    {
     "name": "stdout",
     "output_type": "stream",
     "text": [
      "How old are you?4\n",
      "You are NOT legal to smoke in Texas\n"
     ]
    }
   ],
   "source": [
    "def are_you_legal_to_smoke_in_texas():\n",
    "    while True:\n",
    "        try:\n",
    "            age = input(\"How old are you?\")\n",
    "            if age.isdigit() and int(age) >= 21:\n",
    "                print(\"You are legal to smoke in Texas\")\n",
    "                break        \n",
    "            elif age.isdigit() and int(age) < 21:\n",
    "                print(\"You are NOT legal to smoke in Texas\") \n",
    "                break\n",
    "        except:\n",
    "            print('You must enter a valid number')   \n",
    "        \n",
    "are_you_legal_to_smoke_in_texas()"
   ]
  },
  {
   "cell_type": "code",
   "execution_count": null,
   "metadata": {},
   "outputs": [],
   "source": []
  }
 ],
 "metadata": {
  "kernelspec": {
   "display_name": "Python 3",
   "language": "python",
   "name": "python3"
  },
  "language_info": {
   "codemirror_mode": {
    "name": "ipython",
    "version": 3
   },
   "file_extension": ".py",
   "mimetype": "text/x-python",
   "name": "python",
   "nbconvert_exporter": "python",
   "pygments_lexer": "ipython3",
   "version": "3.7.6"
  }
 },
 "nbformat": 4,
 "nbformat_minor": 4
}
