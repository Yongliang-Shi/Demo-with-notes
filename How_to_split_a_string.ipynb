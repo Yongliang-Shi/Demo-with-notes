{
 "cells": [
  {
   "cell_type": "markdown",
   "metadata": {},
   "source": [
    "Intro to split()\n",
    "- Syntax: str.split(separator, maxsplit)\n",
    "    - separator is a delimiter\n",
    "        - Default: white space\n",
    "    - maxsplit is a number, which is the max of splitting times\n",
    "        - can't be use by itself\n",
    "    \n",
    "- About output\n",
    "    - The output is a list of strings according to the parameters\n",
    "    - The separator doesn't show up in the output\n",
    "    \n",
    "- String to be tested: \"If you set your goals ridiculously high and it's a failure, you will fail above everyone else's success.\""
   ]
  },
  {
   "cell_type": "code",
   "execution_count": 8,
   "metadata": {},
   "outputs": [
    {
     "name": "stdout",
     "output_type": "stream",
     "text": [
      "['If', 'you', 'set', 'your', 'goals', 'ridiculously', 'high', 'and', \"it's\", 'a', 'failure,', 'you', 'will', 'fail', 'above', 'everyone', \"else's\", 'success.']\n",
      "<class 'list'>\n",
      "<class 'str'>\n"
     ]
    }
   ],
   "source": [
    "# .split() by itself\n",
    "\n",
    "quote = \"If you set your goals ridiculously high and it's a failure, you will fail above everyone else's success.\"\n",
    "split_quote = quote.split()\n",
    "print(split_quote)\n",
    "print(type(split_quote))\n",
    "print(type(split_quote[0]))"
   ]
  },
  {
   "cell_type": "code",
   "execution_count": 2,
   "metadata": {},
   "outputs": [
    {
     "data": {
      "text/plain": [
       "[\"If you set your goals ridiculously high and it's a failure\",\n",
       " \" you will fail above everyone else's success.\"]"
      ]
     },
     "execution_count": 2,
     "metadata": {},
     "output_type": "execute_result"
    }
   ],
   "source": [
    "# .split(separator)\n",
    "\n",
    "quote = \"If you set your goals ridiculously high and it's a failure, you will fail above everyone else's success.\"\n",
    "split_quote = quote.split(\",\")\n",
    "split_quote"
   ]
  },
  {
   "cell_type": "code",
   "execution_count": 3,
   "metadata": {},
   "outputs": [
    {
     "ename": "TypeError",
     "evalue": "must be str or None, not int",
     "output_type": "error",
     "traceback": [
      "\u001b[0;31m---------------------------------------------------------------------------\u001b[0m",
      "\u001b[0;31mTypeError\u001b[0m                                 Traceback (most recent call last)",
      "\u001b[0;32m<ipython-input-3-e7fec7c6c18c>\u001b[0m in \u001b[0;36m<module>\u001b[0;34m\u001b[0m\n\u001b[1;32m      2\u001b[0m \u001b[0;34m\u001b[0m\u001b[0m\n\u001b[1;32m      3\u001b[0m \u001b[0mquote\u001b[0m \u001b[0;34m=\u001b[0m \u001b[0;34m\"If you set your goals ridiculously high and it's a failure, you will fail above everyone else's success.\"\u001b[0m\u001b[0;34m\u001b[0m\u001b[0;34m\u001b[0m\u001b[0m\n\u001b[0;32m----> 4\u001b[0;31m \u001b[0msplit_quote\u001b[0m \u001b[0;34m=\u001b[0m \u001b[0mquote\u001b[0m\u001b[0;34m.\u001b[0m\u001b[0msplit\u001b[0m\u001b[0;34m(\u001b[0m\u001b[0;36m3\u001b[0m\u001b[0;34m)\u001b[0m\u001b[0;34m\u001b[0m\u001b[0;34m\u001b[0m\u001b[0m\n\u001b[0m\u001b[1;32m      5\u001b[0m \u001b[0msplit_quote\u001b[0m\u001b[0;34m\u001b[0m\u001b[0;34m\u001b[0m\u001b[0m\n",
      "\u001b[0;31mTypeError\u001b[0m: must be str or None, not int"
     ]
    }
   ],
   "source": [
    "# .split(maxsplit)\n",
    "\n",
    "quote = \"If you set your goals ridiculously high and it's a failure, you will fail above everyone else's success.\"\n",
    "split_quote = quote.split(3)\n",
    "split_quote\n",
    "\n",
    "# Can't use maxsplit by itself"
   ]
  },
  {
   "cell_type": "code",
   "execution_count": 4,
   "metadata": {},
   "outputs": [
    {
     "data": {
      "text/plain": [
       "['If',\n",
       " 'you',\n",
       " 'set',\n",
       " \"your goals ridiculously high and it's a failure, you will fail above everyone else's success.\"]"
      ]
     },
     "execution_count": 4,
     "metadata": {},
     "output_type": "execute_result"
    }
   ],
   "source": [
    "# .split(\" \", 3)\n",
    "\n",
    "quote = \"If you set your goals ridiculously high and it's a failure, you will fail above everyone else's success.\"\n",
    "split_quote = quote.split(\" \",3)\n",
    "split_quote\n",
    "\n",
    "# It will break the string on the first 3 white spaces and returns four pieces. "
   ]
  },
  {
   "cell_type": "code",
   "execution_count": 5,
   "metadata": {},
   "outputs": [
    {
     "data": {
      "text/plain": [
       "['If ',\n",
       " ' set ',\n",
       " \"r goals ridiculously high and it's a failure, \",\n",
       " \" will fail above everyone else's success.\"]"
      ]
     },
     "execution_count": 5,
     "metadata": {},
     "output_type": "execute_result"
    }
   ],
   "source": [
    "# .split(\"you\", 3)\n",
    "\n",
    "quote = \"If you set your goals ridiculously high and it's a failure, you will fail above everyone else's success.\"\n",
    "split_quote = quote.split(\"you\",3)\n",
    "split_quote\n",
    "\n",
    "# After the split, the seperator \"you\" doesn't show up. "
   ]
  },
  {
   "cell_type": "code",
   "execution_count": 9,
   "metadata": {
    "scrolled": true
   },
   "outputs": [
    {
     "ename": "ValueError",
     "evalue": "empty separator",
     "output_type": "error",
     "traceback": [
      "\u001b[0;31m---------------------------------------------------------------------------\u001b[0m",
      "\u001b[0;31mValueError\u001b[0m                                Traceback (most recent call last)",
      "\u001b[0;32m<ipython-input-9-bd5275f19850>\u001b[0m in \u001b[0;36m<module>\u001b[0;34m\u001b[0m\n\u001b[1;32m      2\u001b[0m \u001b[0;34m\u001b[0m\u001b[0m\n\u001b[1;32m      3\u001b[0m \u001b[0mquote\u001b[0m \u001b[0;34m=\u001b[0m \u001b[0;34m\"If you set your goals ridiculously high and it's a failure, you will fail above everyone else's success.\"\u001b[0m\u001b[0;34m\u001b[0m\u001b[0;34m\u001b[0m\u001b[0m\n\u001b[0;32m----> 4\u001b[0;31m \u001b[0msplit_quote\u001b[0m \u001b[0;34m=\u001b[0m \u001b[0mquote\u001b[0m\u001b[0;34m.\u001b[0m\u001b[0msplit\u001b[0m\u001b[0;34m(\u001b[0m\u001b[0;34m\"\"\u001b[0m\u001b[0;34m,\u001b[0m\u001b[0;36m3\u001b[0m\u001b[0;34m)\u001b[0m\u001b[0;34m\u001b[0m\u001b[0;34m\u001b[0m\u001b[0m\n\u001b[0m\u001b[1;32m      5\u001b[0m \u001b[0msplit_quote\u001b[0m\u001b[0;34m\u001b[0m\u001b[0;34m\u001b[0m\u001b[0m\n",
      "\u001b[0;31mValueError\u001b[0m: empty separator"
     ]
    }
   ],
   "source": [
    "# How about spliting nothing?\n",
    "\n",
    "quote = \"If you set your goals ridiculously high and it's a failure, you will fail above everyone else's success.\"\n",
    "split_quote = quote.split(\"\",3)\n",
    "split_quote\n",
    "\n",
    "# ValueError: empty separator"
   ]
  },
  {
   "cell_type": "code",
   "execution_count": 10,
   "metadata": {},
   "outputs": [
    {
     "data": {
      "text/plain": [
       "['If ',\n",
       " 'you',\n",
       " ' se',\n",
       " 't y',\n",
       " 'our',\n",
       " ' go',\n",
       " 'als',\n",
       " ' ri',\n",
       " 'dic',\n",
       " 'ulo',\n",
       " 'usl',\n",
       " 'y h',\n",
       " 'igh',\n",
       " ' an',\n",
       " 'd i',\n",
       " \"t's\",\n",
       " ' a ',\n",
       " 'fai',\n",
       " 'lur',\n",
       " 'e, ',\n",
       " 'you',\n",
       " ' wi',\n",
       " 'll ',\n",
       " 'fai',\n",
       " 'l a',\n",
       " 'bov',\n",
       " 'e e',\n",
       " 'ver',\n",
       " 'yon',\n",
       " 'e e',\n",
       " 'lse',\n",
       " \"'s \",\n",
       " 'suc',\n",
       " 'ces',\n",
       " 's.']"
      ]
     },
     "execution_count": 10,
     "metadata": {},
     "output_type": "execute_result"
    }
   ],
   "source": [
    "# How to divide a string into equal parts?\n",
    "quote = \"If you set your goals ridiculously high and it's a failure, you will fail above everyone else's success.\"\n",
    "\n",
    "# List comprehension\n",
    "[quote[i:i+3] for i in range(0, len(quote), 3)]\n",
    "\n",
    "# Since the separator can't be empty, so can't use .slipt()"
   ]
  }
 ],
 "metadata": {
  "kernelspec": {
   "display_name": "Python 3",
   "language": "python",
   "name": "python3"
  },
  "language_info": {
   "codemirror_mode": {
    "name": "ipython",
    "version": 3
   },
   "file_extension": ".py",
   "mimetype": "text/x-python",
   "name": "python",
   "nbconvert_exporter": "python",
   "pygments_lexer": "ipython3",
   "version": "3.7.6"
  }
 },
 "nbformat": 4,
 "nbformat_minor": 4
}
