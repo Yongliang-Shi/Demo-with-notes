{
 "cells": [
  {
   "cell_type": "markdown",
   "metadata": {},
   "source": [
    "## Goal: to demonstrate how to minimize a scalar valued function\n",
    "**Reference**\n",
    "- https://docs.scipy.org/doc/scipy/reference/generated/scipy.optimize.minimize.html\n",
    "- https://www.youtube.com/watch?v=cXHvC_FGx24"
   ]
  },
  {
   "cell_type": "markdown",
   "metadata": {},
   "source": [
    "### Background\n",
    "- **Scalar function**: a function whose result or outpur is a scalar quantity. For example, Energy is a scaler function of velocity, but momentum is a vector (non-scalar) function of velocity. \n",
    "- **Constraints for COBYLA, SLSQP**: defined as a list of dictionaries:\n",
    "    - type(str): 'eq' for equality and 'ineq' for inequality\n",
    "    - fun(callable): the function defining the constraint\n",
    "- **Bounds**: sequence of (min, max) pair for each element in x."
   ]
  },
  {
   "cell_type": "markdown",
   "metadata": {},
   "source": [
    "### Scenario\n",
    "- The objective function to be minimized: $x_1*x_4*(x_1+x_2+x_3)+x_3$\n",
    "- Inequity constraint: $x_1*x_2*x_3*x_4 >= 25$\n",
    "- Equity constraint: $x_1^2+x_2^2+x_3^2+x_4^2=40$\n",
    "- Bounds: $1<= x_1, x_2, x_3, x_4, <=5$\n",
    "- Initial guess($x_0$): (1,5,5,1)\n",
    "    - The initial guess does not meet the requirement of the equity constraint"
   ]
  },
  {
   "cell_type": "markdown",
   "metadata": {},
   "source": [
    "### Demo with notes"
   ]
  },
  {
   "cell_type": "code",
   "execution_count": 1,
   "metadata": {},
   "outputs": [],
   "source": [
    "# Import the libraries\n",
    "\n",
    "import numpy as np\n",
    "from scipy.optimize import minimize"
   ]
  },
  {
   "cell_type": "code",
   "execution_count": 2,
   "metadata": {},
   "outputs": [],
   "source": [
    "# Define the objective function\n",
    "\n",
    "def objective(x):\n",
    "    x1 = x[0]\n",
    "    x2 = x[1]\n",
    "    x3 = x[2]\n",
    "    x4 = x[3]\n",
    "    return x1*x4*(x1+x2+x3) + x3"
   ]
  },
  {
   "cell_type": "code",
   "execution_count": 12,
   "metadata": {},
   "outputs": [],
   "source": [
    "# Define the inequity constraint\n",
    "\n",
    "def constraint1(x):\n",
    "    x1 = x[0]\n",
    "    x2 = x[1]\n",
    "    x3 = x[2]\n",
    "    x4 = x[3]\n",
    "    return x1*x2*x3*x4-25.0\n",
    "\n",
    "# Create the inequity constraint\n",
    "con1 = {'type': 'ineq', 'fun': constraint1}\n",
    "\n",
    "\n",
    "# Define the equity constraint\n",
    "\n",
    "def constraint2(x):\n",
    "    x1 = x[0]\n",
    "    x2 = x[1]\n",
    "    x3 = x[2]\n",
    "    x4 = x[3]\n",
    "    return x1**2 + x2**2 + x3**2 + x4**2 - 40\n",
    "\n",
    "# Create the equity constraint\n",
    "con2 = {'type': 'eq', 'fun': constraint2}\n",
    "\n",
    "# Combine the two constraints\n",
    "cons = [con1, con2]"
   ]
  },
  {
   "cell_type": "code",
   "execution_count": 23,
   "metadata": {},
   "outputs": [
    {
     "data": {
      "text/plain": [
       "16"
      ]
     },
     "execution_count": 23,
     "metadata": {},
     "output_type": "execute_result"
    }
   ],
   "source": [
    "# Set up the initial guess\n",
    "\n",
    "x0 = [1, 5, 5, 1]\n",
    "objective(x0)"
   ]
  },
  {
   "cell_type": "code",
   "execution_count": 24,
   "metadata": {},
   "outputs": [],
   "source": [
    "# Set up the bound for each element\n",
    "\n",
    "b = (1, 5)\n",
    "bounds = (b,b,b,b)"
   ]
  },
  {
   "cell_type": "code",
   "execution_count": 25,
   "metadata": {},
   "outputs": [
    {
     "data": {
      "text/plain": [
       "     fun: 17.01401724556073\n",
       "     jac: array([14.57227039,  1.37940764,  2.37940764,  9.56415081])\n",
       " message: 'Optimization terminated successfully.'\n",
       "    nfev: 30\n",
       "     nit: 5\n",
       "    njev: 5\n",
       "  status: 0\n",
       " success: True\n",
       "       x: array([1.        , 4.74299607, 3.82115466, 1.37940764])"
      ]
     },
     "execution_count": 25,
     "metadata": {},
     "output_type": "execute_result"
    }
   ],
   "source": [
    "# Use scipy.optimize.minimize to minimize the objective function\n",
    "sol = minimize(objective, x0, method='SLSQP', bounds=bounds, constraints=cons)\n",
    "\n",
    "# Print the solution\n",
    "sol"
   ]
  },
  {
   "cell_type": "code",
   "execution_count": 26,
   "metadata": {},
   "outputs": [
    {
     "data": {
      "text/plain": [
       "array([1.        , 4.74299607, 3.82115466, 1.37940764])"
      ]
     },
     "execution_count": 26,
     "metadata": {},
     "output_type": "execute_result"
    }
   ],
   "source": [
    "# Print the solution\n",
    "sol.x"
   ]
  }
 ],
 "metadata": {
  "kernelspec": {
   "display_name": "Python 3",
   "language": "python",
   "name": "python3"
  },
  "language_info": {
   "codemirror_mode": {
    "name": "ipython",
    "version": 3
   },
   "file_extension": ".py",
   "mimetype": "text/x-python",
   "name": "python",
   "nbconvert_exporter": "python",
   "pygments_lexer": "ipython3",
   "version": "3.7.6"
  }
 },
 "nbformat": 4,
 "nbformat_minor": 4
}
