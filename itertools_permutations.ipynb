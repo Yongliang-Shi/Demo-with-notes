{
 "cells": [
  {
   "cell_type": "markdown",
   "metadata": {},
   "source": [
    "1. Intro to Permutations\n",
    "    - Syntax:\n",
    "        - permutations(iterator, r)\n",
    "    - Take an iterator and 'r' as input\n",
    "        - iterator\n",
    "            - list\n",
    "            - string\n",
    "            - range()\n",
    "            - set\n",
    "    - Return an object list of tuples that contain all permutation in a list form."
   ]
  },
  {
   "cell_type": "code",
   "execution_count": 32,
   "metadata": {},
   "outputs": [
    {
     "name": "stdout",
     "output_type": "stream",
     "text": [
      "<class 'itertools.permutations'>\n",
      "(1, 2)\n",
      "<class 'tuple'>\n",
      "(2, 1)\n",
      "<class 'tuple'>\n",
      "('1', '2')\n",
      "<class 'tuple'>\n",
      "('2', '1')\n",
      "<class 'tuple'>\n",
      "(1, 2)\n",
      "<class 'tuple'>\n",
      "(2, 1)\n",
      "<class 'tuple'>\n",
      "(1, 2)\n",
      "<class 'tuple'>\n",
      "(2, 1)\n",
      "<class 'tuple'>\n"
     ]
    },
    {
     "data": {
      "text/plain": [
       "list"
      ]
     },
     "execution_count": 32,
     "metadata": {},
     "output_type": "execute_result"
    }
   ],
   "source": [
    "# Input and output test\n",
    "\n",
    "from itertools import permutations\n",
    "\n",
    "iterator_list = [1,2]\n",
    "iterator_string = \"12\"\n",
    "iterator_range = range(0,1)\n",
    "iterator_set = (1,2)\n",
    "\n",
    "\n",
    "p_list = permutations(iterator_list)\n",
    "print(type(p_list))\n",
    "\n",
    "# Can't print p_list or (permutations(iterator_list))\n",
    "# Return: <itertools.permutations object at 0x7fbb1124db30>\n",
    "\n",
    "for i in list(p_list):\n",
    "    print(i)\n",
    "    print(type(i)) # The data type of the members are 'tuple'\n",
    "    \n",
    "p_string = permutations(iterator_string)\n",
    "\n",
    "for i in list(p_string):\n",
    "    print(i)\n",
    "    print(type(i)) # The data type of the members are 'tuple'\n",
    "    \n",
    "p_range = permutations(range(1,3))\n",
    "\n",
    "for i in list(p_range):\n",
    "    print(i)\n",
    "    print(type(i)) # The data type of the members are 'tuple'\n",
    "    \n",
    "p_set = permutations(iterator_set)\n",
    "\n",
    "for i in list(p_set):\n",
    "    print(i)\n",
    "    print(type(i)) # The data type of the members are 'tuple'"
   ]
  },
  {
   "cell_type": "markdown",
   "metadata": {},
   "source": [
    "- Could I use index to access the members in p_list or p_string?\n",
    "\n",
    "print(p_list[0])\n",
    "\n",
    "No. TypeError: 'itertools.permutations' object is not subscriptable"
   ]
  }
 ],
 "metadata": {
  "kernelspec": {
   "display_name": "Python 3",
   "language": "python",
   "name": "python3"
  },
  "language_info": {
   "codemirror_mode": {
    "name": "ipython",
    "version": 3
   },
   "file_extension": ".py",
   "mimetype": "text/x-python",
   "name": "python",
   "nbconvert_exporter": "python",
   "pygments_lexer": "ipython3",
   "version": "3.7.6"
  }
 },
 "nbformat": 4,
 "nbformat_minor": 4
}
