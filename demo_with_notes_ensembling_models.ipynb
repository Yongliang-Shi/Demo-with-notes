{
 "cells": [
  {
   "cell_type": "markdown",
   "metadata": {},
   "source": [
    "## Quick Intro\n",
    "\n",
    "Ensembing/combining two or more algorithms could improve or boost your performance. \n",
    "- **Simple Averaging/Weighted Method:**\n",
    "    - Take an average: setting equal weights for the algorithms. \n",
    "    - Easily implemented using **Sklearn's Voting Calssifier**, which even allows you to assign weights for each algorithm.\n",
    "\n",
    "- **Bagging Methods:**\n",
    "    - Instead of using different models, we could use different versions of the same model. \n",
    "    - **Random forest** is a famous bagging model which uses variations of multiple trees. If same tress are used then it's a bagged decision tree.\n",
    "    - Each model(bag) in the bagging model is slightly different from one another. \n",
    "    \n",
    "- **Boosting Methods:**\n",
    "    - Considering how well the previous model has performed and incorporate it into the next model. \n",
    "    - Like boosting the new model with the predictions of the previous model.\n",
    "    - **Weight based boosting**:\n",
    "        - Good predictions mean less weight and bad predictions means more weight\n",
    "        - These weights get added up at every model in the ensemble and as more weights get added, you start to focus your model on the those with high weights.\n",
    "        - **Adaboost** aims to convert weak classifiers to strong calssifiers by adding models and correcting errors from previous models.\n",
    "    - **Residual based boosting:**\n",
    "        - The absolute value of weights / residual (difference between the predicted and actual labels) is assigned as a new variable to the next model. \n",
    "        - Also be called **gradient boosting.**\n",
    "        - There is no overfitting (using learning rate)\n",
    "        - Don't rely on a single tree for the predictions (number of estimators)\n",
    "        - top algorithms: \n",
    "            - **Xgboost** \n",
    "            - **Lighbgm**\n",
    "            - **Catboost**\n",
    "        "
   ]
  }
 ],
 "metadata": {
  "kernelspec": {
   "display_name": "Python 3",
   "language": "python",
   "name": "python3"
  },
  "language_info": {
   "codemirror_mode": {
    "name": "ipython",
    "version": 3
   },
   "file_extension": ".py",
   "mimetype": "text/x-python",
   "name": "python",
   "nbconvert_exporter": "python",
   "pygments_lexer": "ipython3",
   "version": "3.7.6"
  }
 },
 "nbformat": 4,
 "nbformat_minor": 4
}
