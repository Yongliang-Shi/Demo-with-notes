{
 "cells": [
  {
   "cell_type": "markdown",
   "metadata": {},
   "source": [
    "`pd.cut()` \n",
    "- To seperate the array elements into different bins\n",
    "- Mainly used to perform statistical analysis on scalar data\n",
    "- Syntax: \n",
    "    -`pd.cut(x, bins, right = True, labels = None, retbins = False, precision = 3, include_lowest = False, duplicates = \"raise\")`\n",
    "- Parameters: \n",
    "    - x: the input array. Must be 1-dimentional.\n",
    "    - bins: defines the bin edge for the segmentation\n",
    "    - right: indicates whether bins includes the rightmost edge or not. \n",
    "    - labels: specifies the labels for the returned bins. \n",
    "    - retbins: whether to return the bins or not. Useful when bins is provided as a scalar. "
   ]
  },
  {
   "cell_type": "code",
   "execution_count": 9,
   "metadata": {},
   "outputs": [
    {
     "data": {
      "text/plain": [
       "0    1\n",
       "1    2\n",
       "2    3\n",
       "3    4\n",
       "4    5\n",
       "5    6\n",
       "6    7\n",
       "7    8\n",
       "8    9\n",
       "dtype: int64"
      ]
     },
     "execution_count": 9,
     "metadata": {},
     "output_type": "execute_result"
    }
   ],
   "source": [
    "import pandas as pd\n",
    "import numpy as np\n",
    "numbers = pd.Series([1,2,3,4,5,6,7,8,9])\n",
    "numbers"
   ]
  },
  {
   "cell_type": "markdown",
   "metadata": {},
   "source": [
    "### Bins"
   ]
  },
  {
   "cell_type": "code",
   "execution_count": 16,
   "metadata": {},
   "outputs": [
    {
     "data": {
      "text/plain": [
       "0    (0.992, 3.0]\n",
       "1    (0.992, 3.0]\n",
       "2    (0.992, 3.0]\n",
       "3      (3.0, 5.0]\n",
       "4      (3.0, 5.0]\n",
       "5      (5.0, 7.0]\n",
       "6      (5.0, 7.0]\n",
       "7      (7.0, 9.0]\n",
       "8      (7.0, 9.0]\n",
       "dtype: category\n",
       "Categories (4, interval[float64]): [(0.992, 3.0] < (3.0, 5.0] < (5.0, 7.0] < (7.0, 9.0]]"
      ]
     },
     "execution_count": 16,
     "metadata": {},
     "output_type": "execute_result"
    }
   ],
   "source": [
    "pd.cut(numbers, 4)"
   ]
  },
  {
   "cell_type": "code",
   "execution_count": 19,
   "metadata": {},
   "outputs": [
    {
     "data": {
      "text/plain": [
       "0           NaN\n",
       "1    (1.0, 5.0]\n",
       "2    (1.0, 5.0]\n",
       "3    (1.0, 5.0]\n",
       "4    (1.0, 5.0]\n",
       "5    (5.0, 9.0]\n",
       "6    (5.0, 9.0]\n",
       "7    (5.0, 9.0]\n",
       "8    (5.0, 9.0]\n",
       "dtype: category\n",
       "Categories (2, interval[int64]): [(1, 5] < (5, 9]]"
      ]
     },
     "execution_count": 19,
     "metadata": {},
     "output_type": "execute_result"
    }
   ],
   "source": [
    "pd.cut(numbers, bins = [1,5,9])"
   ]
  },
  {
   "cell_type": "markdown",
   "metadata": {},
   "source": [
    "### right = True (default) vs. right = False"
   ]
  },
  {
   "cell_type": "code",
   "execution_count": 20,
   "metadata": {},
   "outputs": [
    {
     "data": {
      "text/plain": [
       "0           NaN\n",
       "1    (1.0, 5.0]\n",
       "2    (1.0, 5.0]\n",
       "3    (1.0, 5.0]\n",
       "4    (1.0, 5.0]\n",
       "5    (5.0, 9.0]\n",
       "6    (5.0, 9.0]\n",
       "7    (5.0, 9.0]\n",
       "8    (5.0, 9.0]\n",
       "dtype: category\n",
       "Categories (2, interval[int64]): [(1, 5] < (5, 9]]"
      ]
     },
     "execution_count": 20,
     "metadata": {},
     "output_type": "execute_result"
    }
   ],
   "source": [
    "pd.cut(numbers, bins = [1,5,9])"
   ]
  },
  {
   "cell_type": "code",
   "execution_count": 21,
   "metadata": {},
   "outputs": [
    {
     "data": {
      "text/plain": [
       "0    [1.0, 5.0)\n",
       "1    [1.0, 5.0)\n",
       "2    [1.0, 5.0)\n",
       "3    [1.0, 5.0)\n",
       "4    [5.0, 9.0)\n",
       "5    [5.0, 9.0)\n",
       "6    [5.0, 9.0)\n",
       "7    [5.0, 9.0)\n",
       "8           NaN\n",
       "dtype: category\n",
       "Categories (2, interval[int64]): [[1, 5) < [5, 9)]"
      ]
     },
     "execution_count": 21,
     "metadata": {},
     "output_type": "execute_result"
    }
   ],
   "source": [
    "pd.cut(numbers, bins = [1,5,9], right = False)"
   ]
  },
  {
   "cell_type": "markdown",
   "metadata": {},
   "source": [
    "### Labels"
   ]
  },
  {
   "cell_type": "code",
   "execution_count": 12,
   "metadata": {},
   "outputs": [
    {
     "data": {
      "text/plain": [
       "0    (0.992, 5.0]\n",
       "1    (0.992, 5.0]\n",
       "2    (0.992, 5.0]\n",
       "3    (0.992, 5.0]\n",
       "4    (0.992, 5.0]\n",
       "5      (5.0, 9.0]\n",
       "6      (5.0, 9.0]\n",
       "7      (5.0, 9.0]\n",
       "8      (5.0, 9.0]\n",
       "dtype: category\n",
       "Categories (2, interval[float64]): [(0.992, 5.0] < (5.0, 9.0]]"
      ]
     },
     "execution_count": 12,
     "metadata": {},
     "output_type": "execute_result"
    }
   ],
   "source": [
    "pd.cut(numbers, 2)"
   ]
  },
  {
   "cell_type": "code",
   "execution_count": 15,
   "metadata": {
    "scrolled": true
   },
   "outputs": [
    {
     "data": {
      "text/plain": [
       "0    < 5\n",
       "1    < 5\n",
       "2    < 5\n",
       "3    < 5\n",
       "4    < 5\n",
       "5    >=5\n",
       "6    >=5\n",
       "7    >=5\n",
       "8    >=5\n",
       "dtype: category\n",
       "Categories (2, object): [< 5 < >=5]"
      ]
     },
     "execution_count": 15,
     "metadata": {},
     "output_type": "execute_result"
    }
   ],
   "source": [
    "pd.cut(numbers, 2, labels = ['< 5','>=5'])"
   ]
  },
  {
   "cell_type": "code",
   "execution_count": 48,
   "metadata": {},
   "outputs": [
    {
     "data": {
      "text/plain": [
       "0    0\n",
       "1    0\n",
       "2    0\n",
       "3    1\n",
       "4    1\n",
       "5    2\n",
       "6    2\n",
       "7    3\n",
       "8    3\n",
       "dtype: int64"
      ]
     },
     "execution_count": 48,
     "metadata": {},
     "output_type": "execute_result"
    }
   ],
   "source": [
    "pd.cut(numbers, 4, labels = False)"
   ]
  },
  {
   "cell_type": "markdown",
   "metadata": {},
   "source": [
    "### retbins"
   ]
  },
  {
   "cell_type": "code",
   "execution_count": 22,
   "metadata": {},
   "outputs": [
    {
     "data": {
      "text/plain": [
       "0    (0.992, 5.0]\n",
       "1    (0.992, 5.0]\n",
       "2    (0.992, 5.0]\n",
       "3    (0.992, 5.0]\n",
       "4    (0.992, 5.0]\n",
       "5      (5.0, 9.0]\n",
       "6      (5.0, 9.0]\n",
       "7      (5.0, 9.0]\n",
       "8      (5.0, 9.0]\n",
       "dtype: category\n",
       "Categories (2, interval[float64]): [(0.992, 5.0] < (5.0, 9.0]]"
      ]
     },
     "execution_count": 22,
     "metadata": {},
     "output_type": "execute_result"
    }
   ],
   "source": [
    "pd.cut(numbers, 2)"
   ]
  },
  {
   "cell_type": "code",
   "execution_count": 24,
   "metadata": {},
   "outputs": [
    {
     "data": {
      "text/plain": [
       "(0    (0.992, 5.0]\n",
       " 1    (0.992, 5.0]\n",
       " 2    (0.992, 5.0]\n",
       " 3    (0.992, 5.0]\n",
       " 4    (0.992, 5.0]\n",
       " 5      (5.0, 9.0]\n",
       " 6      (5.0, 9.0]\n",
       " 7      (5.0, 9.0]\n",
       " 8      (5.0, 9.0]\n",
       " dtype: category\n",
       " Categories (2, interval[float64]): [(0.992, 5.0] < (5.0, 9.0]],\n",
       " array([0.992, 5.   , 9.   ]))"
      ]
     },
     "execution_count": 24,
     "metadata": {},
     "output_type": "execute_result"
    }
   ],
   "source": [
    "pd.cut(numbers, 2, retbins = True)"
   ]
  },
  {
   "cell_type": "markdown",
   "metadata": {},
   "source": [
    "### Precision"
   ]
  },
  {
   "cell_type": "code",
   "execution_count": 36,
   "metadata": {},
   "outputs": [
    {
     "data": {
      "text/plain": [
       "0    (0.992, 2.6]\n",
       "1    (0.992, 2.6]\n",
       "2      (2.6, 4.2]\n",
       "3      (2.6, 4.2]\n",
       "4      (4.2, 5.8]\n",
       "5      (5.8, 7.4]\n",
       "6      (5.8, 7.4]\n",
       "7      (7.4, 9.0]\n",
       "8      (7.4, 9.0]\n",
       "dtype: category\n",
       "Categories (5, interval[float64]): [(0.992, 2.6] < (2.6, 4.2] < (4.2, 5.8] < (5.8, 7.4] < (7.4, 9.0]]"
      ]
     },
     "execution_count": 36,
     "metadata": {},
     "output_type": "execute_result"
    }
   ],
   "source": [
    "pd.cut(numbers, 5)"
   ]
  },
  {
   "cell_type": "code",
   "execution_count": 39,
   "metadata": {},
   "outputs": [
    {
     "data": {
      "text/plain": [
       "0    (1.0, 3.0]\n",
       "1    (1.0, 3.0]\n",
       "2    (3.0, 4.0]\n",
       "3    (3.0, 4.0]\n",
       "4    (4.0, 6.0]\n",
       "5    (6.0, 7.0]\n",
       "6    (6.0, 7.0]\n",
       "7    (7.0, 9.0]\n",
       "8    (7.0, 9.0]\n",
       "dtype: category\n",
       "Categories (5, interval[float64]): [(1.0, 3.0] < (3.0, 4.0] < (4.0, 6.0] < (6.0, 7.0] < (7.0, 9.0]]"
      ]
     },
     "execution_count": 39,
     "metadata": {},
     "output_type": "execute_result"
    }
   ],
   "source": [
    "pd.cut(numbers, 5, precision = 0)"
   ]
  },
  {
   "cell_type": "markdown",
   "metadata": {},
   "source": [
    "### Include_lowest"
   ]
  },
  {
   "cell_type": "code",
   "execution_count": 43,
   "metadata": {},
   "outputs": [
    {
     "data": {
      "text/plain": [
       "0           NaN\n",
       "1    (1.0, 5.0]\n",
       "2    (1.0, 5.0]\n",
       "3    (1.0, 5.0]\n",
       "4    (1.0, 5.0]\n",
       "5    (5.0, 9.0]\n",
       "6    (5.0, 9.0]\n",
       "7    (5.0, 9.0]\n",
       "8    (5.0, 9.0]\n",
       "dtype: category\n",
       "Categories (2, interval[int64]): [(1, 5] < (5, 9]]"
      ]
     },
     "execution_count": 43,
     "metadata": {},
     "output_type": "execute_result"
    }
   ],
   "source": [
    "pd.cut(numbers, [1,5,9])"
   ]
  },
  {
   "cell_type": "code",
   "execution_count": 42,
   "metadata": {},
   "outputs": [
    {
     "data": {
      "text/plain": [
       "0    (0.999, 5.0]\n",
       "1    (0.999, 5.0]\n",
       "2    (0.999, 5.0]\n",
       "3    (0.999, 5.0]\n",
       "4    (0.999, 5.0]\n",
       "5      (5.0, 9.0]\n",
       "6      (5.0, 9.0]\n",
       "7      (5.0, 9.0]\n",
       "8      (5.0, 9.0]\n",
       "dtype: category\n",
       "Categories (2, interval[float64]): [(0.999, 5.0] < (5.0, 9.0]]"
      ]
     },
     "execution_count": 42,
     "metadata": {},
     "output_type": "execute_result"
    }
   ],
   "source": [
    "pd.cut(numbers, [1,5,9], include_lowest = True)"
   ]
  },
  {
   "cell_type": "markdown",
   "metadata": {},
   "source": [
    "### duplicates"
   ]
  },
  {
   "cell_type": "code",
   "execution_count": null,
   "metadata": {},
   "outputs": [],
   "source": []
  }
 ],
 "metadata": {
  "kernelspec": {
   "display_name": "Python 3",
   "language": "python",
   "name": "python3"
  },
  "language_info": {
   "codemirror_mode": {
    "name": "ipython",
    "version": 3
   },
   "file_extension": ".py",
   "mimetype": "text/x-python",
   "name": "python",
   "nbconvert_exporter": "python",
   "pygments_lexer": "ipython3",
   "version": "3.7.6"
  }
 },
 "nbformat": 4,
 "nbformat_minor": 4
}
